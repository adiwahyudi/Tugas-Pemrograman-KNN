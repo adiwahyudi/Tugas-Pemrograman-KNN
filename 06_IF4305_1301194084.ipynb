{
 "metadata": {
  "language_info": {
   "codemirror_mode": {
    "name": "ipython",
    "version": 3
   },
   "file_extension": ".py",
   "mimetype": "text/x-python",
   "name": "python",
   "nbconvert_exporter": "python",
   "pygments_lexer": "ipython3",
   "version": "3.8.3"
  },
  "orig_nbformat": 4,
  "kernelspec": {
   "name": "python3",
   "display_name": "Python 3.8.3 64-bit ('base': conda)"
  },
  "interpreter": {
   "hash": "f1b646ef92b292cc55ba6693a6ec98c22d2e5bdc1a9d66fb83a35563bba3f9cb"
  }
 },
 "nbformat": 4,
 "nbformat_minor": 2,
 "cells": [
  {
   "source": [
    "# Import Library dan Baca File Inputan"
   ],
   "cell_type": "markdown",
   "metadata": {}
  },
  {
   "cell_type": "code",
   "execution_count": 122,
   "metadata": {},
   "outputs": [],
   "source": [
    "import pandas as pd"
   ]
  },
  {
   "cell_type": "code",
   "execution_count": 123,
   "metadata": {},
   "outputs": [],
   "source": [
    "df = pd.read_excel('mobil.xls')"
   ]
  },
  {
   "cell_type": "code",
   "execution_count": 124,
   "metadata": {},
   "outputs": [
    {
     "output_type": "execute_result",
     "data": {
      "text/plain": [
       "              Nama Mobil  Ukuran  Kenyamanan  Irit  Kecepatan  \\\n",
       "0            Toyota Agya       4           4     9          6   \n",
       "1          Daihatsu Alya       4           3     9          6   \n",
       "2          Toyota Avanza       6           5     6          6   \n",
       "3         Daihatsu Xenia       6           4     6          6   \n",
       "4                Xpander       7           7     6          7   \n",
       "5                 Livina       7           7     6          7   \n",
       "6                Karimun       3           4    10          5   \n",
       "7          Toyota Innova       8           8     5          7   \n",
       "8                Alphard       9          10     4          8   \n",
       "9            Toyota Vios       5           7     9          8   \n",
       "10            Honda City       5           8     7          8   \n",
       "11          Toyota Hiace      10           5     8          6   \n",
       "12       Toyota Fortuner       9           8     5          8   \n",
       "13           Toyota Foxy       9           9     5          7   \n",
       "14  Toyota Corolla Altis       5           9     7          9   \n",
       "15         Suzuki Ertiga       7           7     7          7   \n",
       "16          Suzuki Carry       7           3     9          5   \n",
       "\n",
       "    Harga (Ratus Juta)  \n",
       "0                 1.00  \n",
       "1                 1.10  \n",
       "2                 2.00  \n",
       "3                 1.75  \n",
       "4                 2.25  \n",
       "5                 2.10  \n",
       "6                 1.20  \n",
       "7                 4.00  \n",
       "8                10.00  \n",
       "9                 2.50  \n",
       "10                2.70  \n",
       "11                5.00  \n",
       "12                5.00  \n",
       "13                5.50  \n",
       "14                6.00  \n",
       "15                2.30  \n",
       "16                0.80  "
      ],
      "text/html": "<div>\n<style scoped>\n    .dataframe tbody tr th:only-of-type {\n        vertical-align: middle;\n    }\n\n    .dataframe tbody tr th {\n        vertical-align: top;\n    }\n\n    .dataframe thead th {\n        text-align: right;\n    }\n</style>\n<table border=\"1\" class=\"dataframe\">\n  <thead>\n    <tr style=\"text-align: right;\">\n      <th></th>\n      <th>Nama Mobil</th>\n      <th>Ukuran</th>\n      <th>Kenyamanan</th>\n      <th>Irit</th>\n      <th>Kecepatan</th>\n      <th>Harga (Ratus Juta)</th>\n    </tr>\n  </thead>\n  <tbody>\n    <tr>\n      <th>0</th>\n      <td>Toyota Agya</td>\n      <td>4</td>\n      <td>4</td>\n      <td>9</td>\n      <td>6</td>\n      <td>1.00</td>\n    </tr>\n    <tr>\n      <th>1</th>\n      <td>Daihatsu Alya</td>\n      <td>4</td>\n      <td>3</td>\n      <td>9</td>\n      <td>6</td>\n      <td>1.10</td>\n    </tr>\n    <tr>\n      <th>2</th>\n      <td>Toyota Avanza</td>\n      <td>6</td>\n      <td>5</td>\n      <td>6</td>\n      <td>6</td>\n      <td>2.00</td>\n    </tr>\n    <tr>\n      <th>3</th>\n      <td>Daihatsu Xenia</td>\n      <td>6</td>\n      <td>4</td>\n      <td>6</td>\n      <td>6</td>\n      <td>1.75</td>\n    </tr>\n    <tr>\n      <th>4</th>\n      <td>Xpander</td>\n      <td>7</td>\n      <td>7</td>\n      <td>6</td>\n      <td>7</td>\n      <td>2.25</td>\n    </tr>\n    <tr>\n      <th>5</th>\n      <td>Livina</td>\n      <td>7</td>\n      <td>7</td>\n      <td>6</td>\n      <td>7</td>\n      <td>2.10</td>\n    </tr>\n    <tr>\n      <th>6</th>\n      <td>Karimun</td>\n      <td>3</td>\n      <td>4</td>\n      <td>10</td>\n      <td>5</td>\n      <td>1.20</td>\n    </tr>\n    <tr>\n      <th>7</th>\n      <td>Toyota Innova</td>\n      <td>8</td>\n      <td>8</td>\n      <td>5</td>\n      <td>7</td>\n      <td>4.00</td>\n    </tr>\n    <tr>\n      <th>8</th>\n      <td>Alphard</td>\n      <td>9</td>\n      <td>10</td>\n      <td>4</td>\n      <td>8</td>\n      <td>10.00</td>\n    </tr>\n    <tr>\n      <th>9</th>\n      <td>Toyota Vios</td>\n      <td>5</td>\n      <td>7</td>\n      <td>9</td>\n      <td>8</td>\n      <td>2.50</td>\n    </tr>\n    <tr>\n      <th>10</th>\n      <td>Honda City</td>\n      <td>5</td>\n      <td>8</td>\n      <td>7</td>\n      <td>8</td>\n      <td>2.70</td>\n    </tr>\n    <tr>\n      <th>11</th>\n      <td>Toyota Hiace</td>\n      <td>10</td>\n      <td>5</td>\n      <td>8</td>\n      <td>6</td>\n      <td>5.00</td>\n    </tr>\n    <tr>\n      <th>12</th>\n      <td>Toyota Fortuner</td>\n      <td>9</td>\n      <td>8</td>\n      <td>5</td>\n      <td>8</td>\n      <td>5.00</td>\n    </tr>\n    <tr>\n      <th>13</th>\n      <td>Toyota Foxy</td>\n      <td>9</td>\n      <td>9</td>\n      <td>5</td>\n      <td>7</td>\n      <td>5.50</td>\n    </tr>\n    <tr>\n      <th>14</th>\n      <td>Toyota Corolla Altis</td>\n      <td>5</td>\n      <td>9</td>\n      <td>7</td>\n      <td>9</td>\n      <td>6.00</td>\n    </tr>\n    <tr>\n      <th>15</th>\n      <td>Suzuki Ertiga</td>\n      <td>7</td>\n      <td>7</td>\n      <td>7</td>\n      <td>7</td>\n      <td>2.30</td>\n    </tr>\n    <tr>\n      <th>16</th>\n      <td>Suzuki Carry</td>\n      <td>7</td>\n      <td>3</td>\n      <td>9</td>\n      <td>5</td>\n      <td>0.80</td>\n    </tr>\n  </tbody>\n</table>\n</div>"
     },
     "metadata": {},
     "execution_count": 124
    }
   ],
   "source": [
    "df"
   ]
  },
  {
   "source": [
    "# Pra-Pemrosesan Data"
   ],
   "cell_type": "markdown",
   "metadata": {}
  },
  {
   "cell_type": "code",
   "execution_count": 125,
   "metadata": {},
   "outputs": [
    {
     "output_type": "execute_result",
     "data": {
      "text/plain": [
       "          Ukuran  Kenyamanan       Irit  Kecepatan  Harga (Ratus Juta)\n",
       "count  17.000000   17.000000  17.000000  17.000000           17.000000\n",
       "mean    6.529412    6.352941   6.941176   6.823529            3.247059\n",
       "std     2.034627    2.234423   1.784327   1.131111            2.406597\n",
       "min     3.000000    3.000000   4.000000   5.000000            0.800000\n",
       "25%     5.000000    4.000000   6.000000   6.000000            1.750000\n",
       "50%     7.000000    7.000000   7.000000   7.000000            2.300000\n",
       "75%     8.000000    8.000000   9.000000   8.000000            5.000000\n",
       "max    10.000000   10.000000  10.000000   9.000000           10.000000"
      ],
      "text/html": "<div>\n<style scoped>\n    .dataframe tbody tr th:only-of-type {\n        vertical-align: middle;\n    }\n\n    .dataframe tbody tr th {\n        vertical-align: top;\n    }\n\n    .dataframe thead th {\n        text-align: right;\n    }\n</style>\n<table border=\"1\" class=\"dataframe\">\n  <thead>\n    <tr style=\"text-align: right;\">\n      <th></th>\n      <th>Ukuran</th>\n      <th>Kenyamanan</th>\n      <th>Irit</th>\n      <th>Kecepatan</th>\n      <th>Harga (Ratus Juta)</th>\n    </tr>\n  </thead>\n  <tbody>\n    <tr>\n      <th>count</th>\n      <td>17.000000</td>\n      <td>17.000000</td>\n      <td>17.000000</td>\n      <td>17.000000</td>\n      <td>17.000000</td>\n    </tr>\n    <tr>\n      <th>mean</th>\n      <td>6.529412</td>\n      <td>6.352941</td>\n      <td>6.941176</td>\n      <td>6.823529</td>\n      <td>3.247059</td>\n    </tr>\n    <tr>\n      <th>std</th>\n      <td>2.034627</td>\n      <td>2.234423</td>\n      <td>1.784327</td>\n      <td>1.131111</td>\n      <td>2.406597</td>\n    </tr>\n    <tr>\n      <th>min</th>\n      <td>3.000000</td>\n      <td>3.000000</td>\n      <td>4.000000</td>\n      <td>5.000000</td>\n      <td>0.800000</td>\n    </tr>\n    <tr>\n      <th>25%</th>\n      <td>5.000000</td>\n      <td>4.000000</td>\n      <td>6.000000</td>\n      <td>6.000000</td>\n      <td>1.750000</td>\n    </tr>\n    <tr>\n      <th>50%</th>\n      <td>7.000000</td>\n      <td>7.000000</td>\n      <td>7.000000</td>\n      <td>7.000000</td>\n      <td>2.300000</td>\n    </tr>\n    <tr>\n      <th>75%</th>\n      <td>8.000000</td>\n      <td>8.000000</td>\n      <td>9.000000</td>\n      <td>8.000000</td>\n      <td>5.000000</td>\n    </tr>\n    <tr>\n      <th>max</th>\n      <td>10.000000</td>\n      <td>10.000000</td>\n      <td>10.000000</td>\n      <td>9.000000</td>\n      <td>10.000000</td>\n    </tr>\n  </tbody>\n</table>\n</div>"
     },
     "metadata": {},
     "execution_count": 125
    }
   ],
   "source": [
    "df.describe()"
   ]
  },
  {
   "cell_type": "code",
   "execution_count": 126,
   "metadata": {},
   "outputs": [
    {
     "output_type": "execute_result",
     "data": {
      "text/plain": [
       "Nama Mobil            0\n",
       "Ukuran                0\n",
       "Kenyamanan            0\n",
       "Irit                  0\n",
       "Kecepatan             0\n",
       "Harga (Ratus Juta)    0\n",
       "dtype: int64"
      ]
     },
     "metadata": {},
     "execution_count": 126
    }
   ],
   "source": [
    "df.isnull().sum()"
   ]
  },
  {
   "source": [
    "Pengecekana apakah data terdapat null atau tidak. Dan hasilnya tidak ada null."
   ],
   "cell_type": "markdown",
   "metadata": {}
  },
  {
   "cell_type": "code",
   "execution_count": 127,
   "metadata": {},
   "outputs": [],
   "source": [
    "new_df = df.drop(columns=['Nama Mobil'])"
   ]
  },
  {
   "cell_type": "code",
   "execution_count": 128,
   "metadata": {},
   "outputs": [
    {
     "output_type": "execute_result",
     "data": {
      "text/plain": [
       "    Ukuran  Kenyamanan  Irit  Kecepatan  Harga (Ratus Juta)\n",
       "0        4           4     9          6                1.00\n",
       "1        4           3     9          6                1.10\n",
       "2        6           5     6          6                2.00\n",
       "3        6           4     6          6                1.75\n",
       "4        7           7     6          7                2.25\n",
       "5        7           7     6          7                2.10\n",
       "6        3           4    10          5                1.20\n",
       "7        8           8     5          7                4.00\n",
       "8        9          10     4          8               10.00\n",
       "9        5           7     9          8                2.50\n",
       "10       5           8     7          8                2.70\n",
       "11      10           5     8          6                5.00\n",
       "12       9           8     5          8                5.00\n",
       "13       9           9     5          7                5.50\n",
       "14       5           9     7          9                6.00\n",
       "15       7           7     7          7                2.30\n",
       "16       7           3     9          5                0.80"
      ],
      "text/html": "<div>\n<style scoped>\n    .dataframe tbody tr th:only-of-type {\n        vertical-align: middle;\n    }\n\n    .dataframe tbody tr th {\n        vertical-align: top;\n    }\n\n    .dataframe thead th {\n        text-align: right;\n    }\n</style>\n<table border=\"1\" class=\"dataframe\">\n  <thead>\n    <tr style=\"text-align: right;\">\n      <th></th>\n      <th>Ukuran</th>\n      <th>Kenyamanan</th>\n      <th>Irit</th>\n      <th>Kecepatan</th>\n      <th>Harga (Ratus Juta)</th>\n    </tr>\n  </thead>\n  <tbody>\n    <tr>\n      <th>0</th>\n      <td>4</td>\n      <td>4</td>\n      <td>9</td>\n      <td>6</td>\n      <td>1.00</td>\n    </tr>\n    <tr>\n      <th>1</th>\n      <td>4</td>\n      <td>3</td>\n      <td>9</td>\n      <td>6</td>\n      <td>1.10</td>\n    </tr>\n    <tr>\n      <th>2</th>\n      <td>6</td>\n      <td>5</td>\n      <td>6</td>\n      <td>6</td>\n      <td>2.00</td>\n    </tr>\n    <tr>\n      <th>3</th>\n      <td>6</td>\n      <td>4</td>\n      <td>6</td>\n      <td>6</td>\n      <td>1.75</td>\n    </tr>\n    <tr>\n      <th>4</th>\n      <td>7</td>\n      <td>7</td>\n      <td>6</td>\n      <td>7</td>\n      <td>2.25</td>\n    </tr>\n    <tr>\n      <th>5</th>\n      <td>7</td>\n      <td>7</td>\n      <td>6</td>\n      <td>7</td>\n      <td>2.10</td>\n    </tr>\n    <tr>\n      <th>6</th>\n      <td>3</td>\n      <td>4</td>\n      <td>10</td>\n      <td>5</td>\n      <td>1.20</td>\n    </tr>\n    <tr>\n      <th>7</th>\n      <td>8</td>\n      <td>8</td>\n      <td>5</td>\n      <td>7</td>\n      <td>4.00</td>\n    </tr>\n    <tr>\n      <th>8</th>\n      <td>9</td>\n      <td>10</td>\n      <td>4</td>\n      <td>8</td>\n      <td>10.00</td>\n    </tr>\n    <tr>\n      <th>9</th>\n      <td>5</td>\n      <td>7</td>\n      <td>9</td>\n      <td>8</td>\n      <td>2.50</td>\n    </tr>\n    <tr>\n      <th>10</th>\n      <td>5</td>\n      <td>8</td>\n      <td>7</td>\n      <td>8</td>\n      <td>2.70</td>\n    </tr>\n    <tr>\n      <th>11</th>\n      <td>10</td>\n      <td>5</td>\n      <td>8</td>\n      <td>6</td>\n      <td>5.00</td>\n    </tr>\n    <tr>\n      <th>12</th>\n      <td>9</td>\n      <td>8</td>\n      <td>5</td>\n      <td>8</td>\n      <td>5.00</td>\n    </tr>\n    <tr>\n      <th>13</th>\n      <td>9</td>\n      <td>9</td>\n      <td>5</td>\n      <td>7</td>\n      <td>5.50</td>\n    </tr>\n    <tr>\n      <th>14</th>\n      <td>5</td>\n      <td>9</td>\n      <td>7</td>\n      <td>9</td>\n      <td>6.00</td>\n    </tr>\n    <tr>\n      <th>15</th>\n      <td>7</td>\n      <td>7</td>\n      <td>7</td>\n      <td>7</td>\n      <td>2.30</td>\n    </tr>\n    <tr>\n      <th>16</th>\n      <td>7</td>\n      <td>3</td>\n      <td>9</td>\n      <td>5</td>\n      <td>0.80</td>\n    </tr>\n  </tbody>\n</table>\n</div>"
     },
     "metadata": {},
     "execution_count": 128
    }
   ],
   "source": [
    "new_df"
   ]
  },
  {
   "source": [
    "assign sebuah variable baru yang dimana tidak berisi column Nama Mobil"
   ],
   "cell_type": "markdown",
   "metadata": {}
  },
  {
   "source": [
    "# Perhitungan Ukuran Jarak"
   ],
   "cell_type": "markdown",
   "metadata": {}
  },
  {
   "cell_type": "code",
   "execution_count": 129,
   "metadata": {},
   "outputs": [],
   "source": [
    "def euclidean(x, y):\n",
    "    res = 0\n",
    "    for i in range(len(y)):\n",
    "        res += (x[i] - y[i])**2\n",
    "\n",
    "    return res ** (1/2)"
   ]
  },
  {
   "cell_type": "code",
   "execution_count": 130,
   "metadata": {},
   "outputs": [],
   "source": [
    "def manhattan(x, y):\n",
    "    res = 0\n",
    "    for i in range(len(x)):\n",
    "        res += abs(x[i] - y[i])\n",
    "\n",
    "    return res"
   ]
  },
  {
   "cell_type": "code",
   "execution_count": 131,
   "metadata": {},
   "outputs": [],
   "source": [
    "def minkowski(x, y, p=5):\n",
    "    res = 0\n",
    "    for i in range(len(x)):\n",
    "        res += abs(x[i] - y[i]) ** p\n",
    "\n",
    "    return res ** (1/p)"
   ]
  },
  {
   "cell_type": "code",
   "execution_count": 132,
   "metadata": {},
   "outputs": [],
   "source": [
    "def supremum(x, y):\n",
    "    res = []\n",
    "    for i in range(len(x)):\n",
    "        res.append(abs(x[i] - y[i]))\n",
    "\n",
    "    return max(res)"
   ]
  },
  {
   "cell_type": "code",
   "execution_count": 133,
   "metadata": {},
   "outputs": [],
   "source": [
    "def knn(x,y,k=3):\n",
    "    eucli,manhat,minkow,suprem = [],[],[],[]\n",
    "\n",
    "    \n",
    "    for i in range(len(x)):\n",
    "        eucli.append([euclidean(x.iloc[i].tolist(), y),df['Nama Mobil'][i]])\n",
    "        manhat.append([manhattan(x.iloc[i].tolist(), y),df['Nama Mobil'][i]])\n",
    "        minkow.append([minkowski(x.iloc[i].tolist(), y),df['Nama Mobil'][i]])\n",
    "        suprem.append([supremum(x.iloc[i].tolist(), y),df['Nama Mobil'][i]])\n",
    "    \n",
    "    eucli_sort = sorted(eucli)[:k]\n",
    "    manhat_sort = sorted(manhat)[:k]\n",
    "    minkow_sort = sorted(minkow)[:k]\n",
    "    suprem_sort = sorted(suprem)[:k]\n",
    "    \n",
    "    output = [['Euclidean',eucli_sort],['Manhattan',manhat_sort],['Minkowski',minkow_sort],['Supremum',suprem_sort]]\n",
    "\n",
    "\n",
    "    return output"
   ]
  },
  {
   "cell_type": "code",
   "execution_count": 134,
   "metadata": {},
   "outputs": [],
   "source": [
    "def final(luaran):\n",
    "    print('================ Hasil Akhir ================\\n')\n",
    "    for x in luaran:\n",
    "        print('Metode :',x[0])\n",
    "        for y in x[1]:\n",
    "            print(y[1],'dengan distance :',round(y[0],2))\n",
    "        print('\\n')"
   ]
  },
  {
   "cell_type": "code",
   "execution_count": 135,
   "metadata": {},
   "outputs": [],
   "source": [
    "def ke_excel(luaran):\n",
    "    eucl = output[0][1]\n",
    "    manh = output[1][1]\n",
    "    mink = output[2][1]\n",
    "    supr = output[3][1]\n",
    "    df_eucl = pd.DataFrame(eucl)\n",
    "    df_manh = pd.DataFrame(manh)\n",
    "    df_mink = pd.DataFrame(mink)\n",
    "    df_supr = pd.DataFrame(supr)\n",
    "\n",
    "    return df_eucl[1],df_manh[1],df_mink[1],df_supr[1]"
   ]
  },
  {
   "source": [
    "# Main Program"
   ],
   "cell_type": "markdown",
   "metadata": {}
  },
  {
   "cell_type": "code",
   "execution_count": 136,
   "metadata": {},
   "outputs": [
    {
     "output_type": "stream",
     "name": "stdout",
     "text": [
      "================ Hasil Akhir ================\n\nMetode : Euclidean\nHonda City dengan distance : 3.64\nToyota Corolla Altis dengan distance : 3.95\nToyota Avanza dengan distance : 4.03\n\n\nMetode : Manhattan\nXpander dengan distance : 6.95\nLivina dengan distance : 7.1\nToyota Avanza dengan distance : 7.2\n\n\nMetode : Minkowski\nHonda City dengan distance : 2.66\nToyota Corolla Altis dengan distance : 3.08\nToyota Avanza dengan distance : 3.26\n\n\nMetode : Supremum\nHonda City dengan distance : 2.5\nSuzuki Ertiga dengan distance : 3.0\nToyota Corolla Altis dengan distance : 3.0\n\n\n"
     ]
    }
   ],
   "source": [
    "# Versi Manual Input\n",
    "ukuran = int(input(\"Masukkan Ukuran\\t: \"))\n",
    "kenyamanan = int(input(\"Masukkan Kenyamanan\\t: \"))\n",
    "irit = int(input(\"Masukkan Irit\\t: \"))\n",
    "kecepatan = int(input(\"Masukkan Kecepatan\\t: \"))\n",
    "harga = float(input(\"Masukkan Harga\\t: \"))\n",
    "masukan = [ukuran,kenyamanan,irit,kecepatan,harga]\n",
    "\n",
    "# Versi Hard-code\n",
    "masukan = [4,6,6,7,5.2]\n",
    "\n",
    "output = knn(new_df, masukan)\n",
    "\n",
    "final(output)\n",
    "\n",
    "# Output dari metode Minkowski \n",
    "out_excel = ke_excel(output)[2]\n",
    "out_excel.to_excel('Rekomendasi.xlsx', header=False, index=False)"
   ]
  }
 ]
}